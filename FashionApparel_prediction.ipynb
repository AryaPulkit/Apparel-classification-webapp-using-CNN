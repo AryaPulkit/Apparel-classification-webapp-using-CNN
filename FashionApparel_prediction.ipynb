{
  "nbformat": 4,
  "nbformat_minor": 0,
  "metadata": {
    "colab": {
      "name": "FashionApparel_prediction.ipynb",
      "provenance": [],
      "mount_file_id": "1aL_gqdisdODjbjUBq-FhYlCXAUSiLltK",
      "authorship_tag": "ABX9TyPjXX+h3XpwHKCBQIpK9cF9",
      "include_colab_link": true
    },
    "kernelspec": {
      "name": "python3",
      "display_name": "Python 3"
    },
    "accelerator": "GPU"
  },
  "cells": [
    {
      "cell_type": "markdown",
      "metadata": {
        "id": "view-in-github",
        "colab_type": "text"
      },
      "source": [
        "<a href=\"https://colab.research.google.com/github/AryaPulkit/Apparel-classification-webapp-using-CNN/blob/master/FashionApparel_prediction.ipynb\" target=\"_parent\"><img src=\"https://colab.research.google.com/assets/colab-badge.svg\" alt=\"Open In Colab\"/></a>"
      ]
    },
    {
      "cell_type": "code",
      "metadata": {
        "id": "ypaOR6SbnS3r",
        "colab_type": "code",
        "outputId": "3485bc0b-f10a-4e5c-d8c9-3359de178c4e",
        "colab": {
          "base_uri": "https://localhost:8080/",
          "height": 34
        }
      },
      "source": [
        "import tensorflow as tf\n",
        "tf.test.gpu_device_name()"
      ],
      "execution_count": 2,
      "outputs": [
        {
          "output_type": "execute_result",
          "data": {
            "text/plain": [
              "'/device:GPU:0'"
            ]
          },
          "metadata": {
            "tags": []
          },
          "execution_count": 2
        }
      ]
    },
    {
      "cell_type": "code",
      "metadata": {
        "id": "JV5DvMBcnlry",
        "colab_type": "code",
        "outputId": "d4973b51-395b-41fb-e86f-5397df9e1625",
        "colab": {
          "base_uri": "https://localhost:8080/",
          "height": 34
        }
      },
      "source": [
        "import numpy as np\n",
        "from keras.datasets import fashion_mnist"
      ],
      "execution_count": 3,
      "outputs": [
        {
          "output_type": "stream",
          "text": [
            "Using TensorFlow backend.\n"
          ],
          "name": "stderr"
        }
      ]
    },
    {
      "cell_type": "code",
      "metadata": {
        "id": "6BU0Afs8ob3p",
        "colab_type": "code",
        "outputId": "31afc287-e4db-43f0-9a81-a046f032d94e",
        "colab": {
          "base_uri": "https://localhost:8080/",
          "height": 158
        }
      },
      "source": [
        "#loading Fashion MNIST dataset\n",
        "(x_train,y_train),(x_test,y_test) = fashion_mnist.load_data()"
      ],
      "execution_count": 4,
      "outputs": [
        {
          "output_type": "stream",
          "text": [
            "Downloading data from http://fashion-mnist.s3-website.eu-central-1.amazonaws.com/train-labels-idx1-ubyte.gz\n",
            "32768/29515 [=================================] - 0s 3us/step\n",
            "Downloading data from http://fashion-mnist.s3-website.eu-central-1.amazonaws.com/train-images-idx3-ubyte.gz\n",
            "26427392/26421880 [==============================] - 2s 0us/step\n",
            "Downloading data from http://fashion-mnist.s3-website.eu-central-1.amazonaws.com/t10k-labels-idx1-ubyte.gz\n",
            "8192/5148 [===============================================] - 0s 0us/step\n",
            "Downloading data from http://fashion-mnist.s3-website.eu-central-1.amazonaws.com/t10k-images-idx3-ubyte.gz\n",
            "4423680/4422102 [==============================] - 1s 0us/step\n"
          ],
          "name": "stdout"
        }
      ]
    },
    {
      "cell_type": "code",
      "metadata": {
        "id": "i3D4nBAXo2Cf",
        "colab_type": "code",
        "outputId": "3498baf8-7bd2-4cab-c45c-78b8dc7b42af",
        "colab": {
          "base_uri": "https://localhost:8080/",
          "height": 70
        }
      },
      "source": [
        "#Exploring the dataset\n",
        "#checking shape and size of train and test set\n",
        "print(str(len(x_train)),str(len(y_train)))\n",
        "print(str(x_train[0].shape))\n",
        "print(str(x_test[0].shape))"
      ],
      "execution_count": 5,
      "outputs": [
        {
          "output_type": "stream",
          "text": [
            "60000 60000\n",
            "(28, 28)\n",
            "(28, 28)\n"
          ],
          "name": "stdout"
        }
      ]
    },
    {
      "cell_type": "code",
      "metadata": {
        "id": "bJmcs2Dap8-3",
        "colab_type": "code",
        "outputId": "a874641e-4a19-4e32-f9ad-e788bb35ebfa",
        "colab": {
          "base_uri": "https://localhost:8080/",
          "height": 34
        }
      },
      "source": [
        "y_train"
      ],
      "execution_count": 21,
      "outputs": [
        {
          "output_type": "execute_result",
          "data": {
            "text/plain": [
              "array([9, 0, 0, ..., 3, 0, 5], dtype=uint8)"
            ]
          },
          "metadata": {
            "tags": []
          },
          "execution_count": 21
        }
      ]
    },
    {
      "cell_type": "code",
      "metadata": {
        "id": "uBAeoHN8qahm",
        "colab_type": "code",
        "outputId": "99fa7120-d727-4e29-cc04-33885c66a46a",
        "colab": {
          "base_uri": "https://localhost:8080/",
          "height": 284
        }
      },
      "source": [
        "#Visualizing images\n",
        "import matplotlib.pyplot as plt\n",
        "\n",
        "plt.subplot(231) #subplot argument means 2 rows , columns and index 1 for this subplot\n",
        "random_num = np.random.randint(0,len(x_train))\n",
        "plt.imshow(x_train[random_num])\n",
        "\n",
        "plt.subplot(232) #Visualizing grayscale images\n",
        "plt.imshow(x_train[random_num],cmap=plt.get_cmap('gray'))\n",
        "\n",
        "plt.subplot(233) \n",
        "random_num2 = np.random.randint(0,len(x_train))\n",
        "plt.imshow(x_train[random_num2])\n",
        "\n",
        "plt.subplot(234) \n",
        "plt.imshow(x_train[random_num2],cmap=plt.get_cmap('gray'))\n",
        "\n",
        "plt.subplot(235) \n",
        "random_num3 = np.random.randint(0,len(x_train))\n",
        "plt.imshow(x_train[random_num3])\n",
        "\n",
        "plt.subplot(236) \n",
        "plt.imshow(x_train[random_num3],cmap=plt.get_cmap('gray'))\n"
      ],
      "execution_count": 6,
      "outputs": [
        {
          "output_type": "execute_result",
          "data": {
            "text/plain": [
              "<matplotlib.image.AxesImage at 0x7f54307aa4a8>"
            ]
          },
          "metadata": {
            "tags": []
          },
          "execution_count": 6
        },
        {
          "output_type": "display_data",
          "data": {
            "image/png": "[encoded data removed]",
            "text/plain": [
              "<Figure size 432x288 with 6 Axes>"
            ]
          },
          "metadata": {
            "tags": [],
            "needs_background": "light"
          }
        }
      ]
    },
    {
      "cell_type": "code",
      "metadata": {
        "id": "bQoLuyc5ucf7",
        "colab_type": "code",
        "colab": {}
      },
      "source": [
        "#importing keras libraries\n",
        "\n",
        "from keras.utils import np_utils\n",
        "import keras\n",
        "from keras.models import Sequential\n",
        "from keras.layers import Dense,Dropout,Flatten\n",
        "from keras.layers import Conv2D,MaxPooling2D,BatchNormalization\n",
        "from keras import backend as K\n",
        "\n",
        "#Set the training parameters\n",
        "batch_size = 128\n",
        "\n",
        "#storing the number of rows and columns for reshaping \n",
        "img_rows = x_train[0].shape[0]\n",
        "img_cols = x_train[1].shape[0]\n",
        "\n",
        "#keras input format (number of samples ,rows,columns,channel )\n",
        "x_train = x_train.reshape(x_train.shape[0],img_rows,img_cols,1) #channel = 1 for grayscale and 3 for RGB\n",
        "x_test = x_test.reshape(x_test.shape[0],img_rows,img_cols,1)\n",
        "\n",
        "#storing the shape of single image\n",
        "input_shape = (img_rows,img_cols,1)\n",
        "\n",
        "#changing the image  to float32 data type\n",
        "x_train = x_train.astype('float32')\n",
        "x_test = x_test.astype('float32')\n",
        "\n",
        "#Scaling the image pixel range (0-255) to (0-1)\n",
        "x_train /= 255 #since image pixels ranges from 0 to 255 we divide by 255 to get values between 0 to 1\n",
        "x_test /= 255 \n",
        "\n",
        "#Performing one hot encoding\n",
        "y_train = np_utils.to_categorical(y_train) \n",
        "y_test = np_utils.to_categorical(y_test)\n",
        "\n",
        "#Number of classes and number of pixels\n",
        "num_classes = y_test.shape[1]\n",
        "num_pixels = x_train.shape[1]*x_train.shape[2]\n"
      ],
      "execution_count": 0,
      "outputs": []
    },
    {
      "cell_type": "code",
      "metadata": {
        "id": "VX3JELJhyarg",
        "colab_type": "code",
        "outputId": "86444c30-553b-4ee5-da30-bbae22c8ceea",
        "colab": {
          "base_uri": "https://localhost:8080/",
          "height": 567
        }
      },
      "source": [
        "#Creating a CNN Model\n",
        "model = Sequential()\n",
        "\n",
        "model.add(Conv2D(32,kernel_size=(3,3),activation='relu',input_shape=input_shape))\n",
        "model.add(BatchNormalization())\n",
        "\n",
        "model.add(Conv2D(64,kernel_size=(3,3),activation='relu'))\n",
        "model.add(BatchNormalization())\n",
        "\n",
        "model.add(MaxPooling2D(pool_size=(2,2)))\n",
        "model.add(Dropout(0.25))\n",
        "\n",
        "model.add(Flatten())\n",
        "model.add(Dense(128,activation='relu'))\n",
        "model.add(BatchNormalization())\n",
        "\n",
        "model.add(Dropout(0.5))\n",
        "model.add(Dense(num_classes,activation='softmax'))\n",
        "\n",
        "model.compile(loss='categorical_crossentropy',optimizer = keras.optimizers.Adadelta(),metrics=['accuracy'])\n",
        "print(model.summary())"
      ],
      "execution_count": 8,
      "outputs": [
        {
          "output_type": "stream",
          "text": [
            "Model: \"sequential_1\"\n",
            "_________________________________________________________________\n",
            "Layer (type)                 Output Shape              Param #   \n",
            "=================================================================\n",
            "conv2d_1 (Conv2D)            (None, 26, 26, 32)        320       \n",
            "_________________________________________________________________\n",
            "batch_normalization_1 (Batch (None, 26, 26, 32)        128       \n",
            "_________________________________________________________________\n",
            "conv2d_2 (Conv2D)            (None, 24, 24, 64)        18496     \n",
            "_________________________________________________________________\n",
            "batch_normalization_2 (Batch (None, 24, 24, 64)        256       \n",
            "_________________________________________________________________\n",
            "max_pooling2d_1 (MaxPooling2 (None, 12, 12, 64)        0         \n",
            "_________________________________________________________________\n",
            "dropout_1 (Dropout)          (None, 12, 12, 64)        0         \n",
            "_________________________________________________________________\n",
            "flatten_1 (Flatten)          (None, 9216)              0         \n",
            "_________________________________________________________________\n",
            "dense_1 (Dense)              (None, 128)               1179776   \n",
            "_________________________________________________________________\n",
            "batch_normalization_3 (Batch (None, 128)               512       \n",
            "_________________________________________________________________\n",
            "dropout_2 (Dropout)          (None, 128)               0         \n",
            "_________________________________________________________________\n",
            "dense_2 (Dense)              (None, 10)                1290      \n",
            "=================================================================\n",
            "Total params: 1,200,778\n",
            "Trainable params: 1,200,330\n",
            "Non-trainable params: 448\n",
            "_________________________________________________________________\n",
            "None\n"
          ],
          "name": "stdout"
        }
      ]
    },
    {
      "cell_type": "code",
      "metadata": {
        "id": "kqTlm0a6zXTW",
        "colab_type": "code",
        "outputId": "71d4dfcf-cfb7-4ed7-ca2a-02c1e931ec24",
        "colab": {
          "base_uri": "https://localhost:8080/",
          "height": 1000
        }
      },
      "source": [
        "#Training models\n",
        "cnn_model = model.fit(x_train,y_train,batch_size=batch_size,epochs=100,verbose=1,validation_data=(x_test,y_test))\n",
        "score = model.evaluate(x_test,y_test,verbose=0)\n"
      ],
      "execution_count": 9,
      "outputs": [
        {
          "output_type": "stream",
          "text": [
            "Train on 60000 samples, validate on 10000 samples\n",
            "Epoch 1/100\n",
            "60000/60000 [==============================] - 23s 375us/step - loss: 0.4453 - accuracy: 0.8477 - val_loss: 1.5971 - val_accuracy: 0.4706\n",
            "Epoch 2/100\n",
            "60000/60000 [==============================] - 16s 265us/step - loss: 0.2870 - accuracy: 0.8989 - val_loss: 0.2674 - val_accuracy: 0.8993\n",
            "Epoch 3/100\n",
            "60000/60000 [==============================] - 16s 267us/step - loss: 0.2376 - accuracy: 0.9140 - val_loss: 0.2291 - val_accuracy: 0.9175\n",
            "Epoch 4/100\n",
            "60000/60000 [==============================] - 16s 266us/step - loss: 0.2118 - accuracy: 0.9245 - val_loss: 0.2481 - val_accuracy: 0.9135\n",
            "Epoch 5/100\n",
            "60000/60000 [==============================] - 16s 270us/step - loss: 0.1895 - accuracy: 0.9316 - val_loss: 0.2255 - val_accuracy: 0.9224\n",
            "Epoch 6/100\n",
            "60000/60000 [==============================] - 16s 266us/step - loss: 0.1690 - accuracy: 0.9390 - val_loss: 0.2263 - val_accuracy: 0.9237\n",
            "Epoch 7/100\n",
            "60000/60000 [==============================] - 16s 268us/step - loss: 0.1563 - accuracy: 0.9436 - val_loss: 0.2225 - val_accuracy: 0.9244\n",
            "Epoch 8/100\n",
            "60000/60000 [==============================] - 16s 268us/step - loss: 0.1400 - accuracy: 0.9497 - val_loss: 0.2274 - val_accuracy: 0.9238\n",
            "Epoch 9/100\n",
            "60000/60000 [==============================] - 16s 267us/step - loss: 0.1313 - accuracy: 0.9529 - val_loss: 0.2107 - val_accuracy: 0.9285\n",
            "Epoch 10/100\n",
            "60000/60000 [==============================] - 16s 267us/step - loss: 0.1234 - accuracy: 0.9560 - val_loss: 0.2050 - val_accuracy: 0.9279\n",
            "Epoch 11/100\n",
            "60000/60000 [==============================] - 16s 268us/step - loss: 0.1147 - accuracy: 0.9586 - val_loss: 0.2395 - val_accuracy: 0.9282\n",
            "Epoch 12/100\n",
            "60000/60000 [==============================] - 16s 267us/step - loss: 0.1081 - accuracy: 0.9608 - val_loss: 0.2713 - val_accuracy: 0.9257\n",
            "Epoch 13/100\n",
            "60000/60000 [==============================] - 16s 268us/step - loss: 0.0997 - accuracy: 0.9638 - val_loss: 0.2334 - val_accuracy: 0.9271\n",
            "Epoch 14/100\n",
            "60000/60000 [==============================] - 16s 267us/step - loss: 0.0946 - accuracy: 0.9645 - val_loss: 0.2264 - val_accuracy: 0.9279\n",
            "Epoch 15/100\n",
            "60000/60000 [==============================] - 16s 267us/step - loss: 0.0890 - accuracy: 0.9681 - val_loss: 0.2850 - val_accuracy: 0.9258\n",
            "Epoch 16/100\n",
            "60000/60000 [==============================] - 16s 267us/step - loss: 0.0834 - accuracy: 0.9699 - val_loss: 0.2497 - val_accuracy: 0.9273\n",
            "Epoch 17/100\n",
            "60000/60000 [==============================] - 16s 268us/step - loss: 0.0811 - accuracy: 0.9709 - val_loss: 0.2351 - val_accuracy: 0.9222\n",
            "Epoch 18/100\n",
            "60000/60000 [==============================] - 16s 268us/step - loss: 0.0771 - accuracy: 0.9723 - val_loss: 0.2653 - val_accuracy: 0.9318\n",
            "Epoch 19/100\n",
            "60000/60000 [==============================] - 16s 269us/step - loss: 0.0740 - accuracy: 0.9732 - val_loss: 0.2667 - val_accuracy: 0.9274\n",
            "Epoch 20/100\n",
            "60000/60000 [==============================] - 16s 269us/step - loss: 0.0720 - accuracy: 0.9743 - val_loss: 0.3951 - val_accuracy: 0.9263\n",
            "Epoch 21/100\n",
            "60000/60000 [==============================] - 16s 270us/step - loss: 0.0705 - accuracy: 0.9745 - val_loss: 0.3261 - val_accuracy: 0.9285\n",
            "Epoch 22/100\n",
            "60000/60000 [==============================] - 16s 267us/step - loss: 0.0664 - accuracy: 0.9764 - val_loss: 0.2440 - val_accuracy: 0.9294\n",
            "Epoch 23/100\n",
            "60000/60000 [==============================] - 16s 267us/step - loss: 0.0632 - accuracy: 0.9776 - val_loss: 0.2312 - val_accuracy: 0.9238\n",
            "Epoch 24/100\n",
            "60000/60000 [==============================] - 16s 270us/step - loss: 0.0624 - accuracy: 0.9775 - val_loss: 0.2374 - val_accuracy: 0.9305\n",
            "Epoch 25/100\n",
            "60000/60000 [==============================] - 16s 269us/step - loss: 0.0588 - accuracy: 0.9790 - val_loss: 0.2678 - val_accuracy: 0.9318\n",
            "Epoch 26/100\n",
            "60000/60000 [==============================] - 16s 268us/step - loss: 0.0584 - accuracy: 0.9791 - val_loss: 0.2851 - val_accuracy: 0.9326\n",
            "Epoch 27/100\n",
            "60000/60000 [==============================] - 16s 267us/step - loss: 0.0548 - accuracy: 0.9803 - val_loss: 0.2851 - val_accuracy: 0.9267\n",
            "Epoch 28/100\n",
            "60000/60000 [==============================] - 16s 267us/step - loss: 0.0542 - accuracy: 0.9805 - val_loss: 0.2901 - val_accuracy: 0.9308\n",
            "Epoch 29/100\n",
            "60000/60000 [==============================] - 16s 266us/step - loss: 0.0532 - accuracy: 0.9808 - val_loss: 0.3308 - val_accuracy: 0.9322\n",
            "Epoch 30/100\n",
            "60000/60000 [==============================] - 16s 267us/step - loss: 0.0524 - accuracy: 0.9815 - val_loss: 0.2531 - val_accuracy: 0.9249\n",
            "Epoch 31/100\n",
            "60000/60000 [==============================] - 16s 267us/step - loss: 0.0506 - accuracy: 0.9819 - val_loss: 0.4213 - val_accuracy: 0.9265\n",
            "Epoch 32/100\n",
            "60000/60000 [==============================] - 16s 267us/step - loss: 0.0486 - accuracy: 0.9824 - val_loss: 0.3315 - val_accuracy: 0.9306\n",
            "Epoch 33/100\n",
            "60000/60000 [==============================] - 16s 269us/step - loss: 0.0483 - accuracy: 0.9830 - val_loss: 0.2772 - val_accuracy: 0.9312\n",
            "Epoch 34/100\n",
            "60000/60000 [==============================] - 16s 271us/step - loss: 0.0484 - accuracy: 0.9830 - val_loss: 0.3714 - val_accuracy: 0.9319\n",
            "Epoch 35/100\n",
            "60000/60000 [==============================] - 16s 270us/step - loss: 0.0459 - accuracy: 0.9840 - val_loss: 0.3187 - val_accuracy: 0.9255\n",
            "Epoch 36/100\n",
            "60000/60000 [==============================] - 16s 269us/step - loss: 0.0443 - accuracy: 0.9844 - val_loss: 0.2525 - val_accuracy: 0.9317\n",
            "Epoch 37/100\n",
            "60000/60000 [==============================] - 16s 268us/step - loss: 0.0427 - accuracy: 0.9844 - val_loss: 0.3805 - val_accuracy: 0.9309\n",
            "Epoch 38/100\n",
            "60000/60000 [==============================] - 16s 268us/step - loss: 0.0419 - accuracy: 0.9849 - val_loss: 0.2456 - val_accuracy: 0.9261\n",
            "Epoch 39/100\n",
            "60000/60000 [==============================] - 16s 270us/step - loss: 0.0417 - accuracy: 0.9862 - val_loss: 0.2337 - val_accuracy: 0.9278\n",
            "Epoch 40/100\n",
            "60000/60000 [==============================] - 16s 270us/step - loss: 0.0407 - accuracy: 0.9857 - val_loss: 0.2764 - val_accuracy: 0.9283\n",
            "Epoch 41/100\n",
            "60000/60000 [==============================] - 16s 270us/step - loss: 0.0418 - accuracy: 0.9862 - val_loss: 0.3995 - val_accuracy: 0.9328\n",
            "Epoch 42/100\n",
            "60000/60000 [==============================] - 16s 269us/step - loss: 0.0392 - accuracy: 0.9862 - val_loss: 0.3934 - val_accuracy: 0.9292\n",
            "Epoch 43/100\n",
            "60000/60000 [==============================] - 16s 271us/step - loss: 0.0375 - accuracy: 0.9867 - val_loss: 0.3404 - val_accuracy: 0.9311\n",
            "Epoch 44/100\n",
            "60000/60000 [==============================] - 16s 271us/step - loss: 0.0390 - accuracy: 0.9863 - val_loss: 0.4027 - val_accuracy: 0.9263\n",
            "Epoch 45/100\n",
            "60000/60000 [==============================] - 16s 268us/step - loss: 0.0374 - accuracy: 0.9871 - val_loss: 0.3039 - val_accuracy: 0.9331\n",
            "Epoch 46/100\n",
            "60000/60000 [==============================] - 16s 269us/step - loss: 0.0364 - accuracy: 0.9872 - val_loss: 0.4257 - val_accuracy: 0.9304\n",
            "Epoch 47/100\n",
            "60000/60000 [==============================] - 16s 269us/step - loss: 0.0377 - accuracy: 0.9866 - val_loss: 0.3035 - val_accuracy: 0.9294\n",
            "Epoch 48/100\n",
            "60000/60000 [==============================] - 16s 269us/step - loss: 0.0346 - accuracy: 0.9876 - val_loss: 0.3354 - val_accuracy: 0.9344\n",
            "Epoch 49/100\n",
            "60000/60000 [==============================] - 16s 269us/step - loss: 0.0345 - accuracy: 0.9874 - val_loss: 0.4520 - val_accuracy: 0.9337\n",
            "Epoch 50/100\n",
            "60000/60000 [==============================] - 16s 270us/step - loss: 0.0340 - accuracy: 0.9880 - val_loss: 0.3036 - val_accuracy: 0.9342\n",
            "Epoch 51/100\n",
            "60000/60000 [==============================] - 16s 269us/step - loss: 0.0310 - accuracy: 0.9886 - val_loss: 0.4059 - val_accuracy: 0.9339\n",
            "Epoch 52/100\n",
            "60000/60000 [==============================] - 16s 269us/step - loss: 0.0328 - accuracy: 0.9877 - val_loss: 0.3581 - val_accuracy: 0.9340\n",
            "Epoch 53/100\n",
            "60000/60000 [==============================] - 16s 269us/step - loss: 0.0348 - accuracy: 0.9880 - val_loss: 0.3888 - val_accuracy: 0.9337\n",
            "Epoch 54/100\n",
            "60000/60000 [==============================] - 16s 269us/step - loss: 0.0346 - accuracy: 0.9880 - val_loss: 0.2884 - val_accuracy: 0.9310\n",
            "Epoch 55/100\n",
            "60000/60000 [==============================] - 16s 269us/step - loss: 0.0338 - accuracy: 0.9880 - val_loss: 0.4027 - val_accuracy: 0.9340\n",
            "Epoch 56/100\n",
            "60000/60000 [==============================] - 16s 269us/step - loss: 0.0331 - accuracy: 0.9886 - val_loss: 0.3730 - val_accuracy: 0.9333\n",
            "Epoch 57/100\n",
            "60000/60000 [==============================] - 16s 269us/step - loss: 0.0328 - accuracy: 0.9886 - val_loss: 0.3574 - val_accuracy: 0.9335\n",
            "Epoch 58/100\n",
            "60000/60000 [==============================] - 16s 270us/step - loss: 0.0320 - accuracy: 0.9890 - val_loss: 0.3262 - val_accuracy: 0.9331\n",
            "Epoch 59/100\n",
            "60000/60000 [==============================] - 16s 270us/step - loss: 0.0324 - accuracy: 0.9885 - val_loss: 0.5903 - val_accuracy: 0.9299\n",
            "Epoch 60/100\n",
            "60000/60000 [==============================] - 16s 269us/step - loss: 0.0309 - accuracy: 0.9892 - val_loss: 0.3665 - val_accuracy: 0.9345\n",
            "Epoch 61/100\n",
            "60000/60000 [==============================] - 16s 267us/step - loss: 0.0322 - accuracy: 0.9886 - val_loss: 0.5359 - val_accuracy: 0.9329\n",
            "Epoch 62/100\n",
            "60000/60000 [==============================] - 16s 267us/step - loss: 0.0302 - accuracy: 0.9894 - val_loss: 0.2849 - val_accuracy: 0.9309\n",
            "Epoch 63/100\n",
            "60000/60000 [==============================] - 16s 270us/step - loss: 0.0291 - accuracy: 0.9902 - val_loss: 0.2640 - val_accuracy: 0.9213\n",
            "Epoch 64/100\n",
            "60000/60000 [==============================] - 16s 268us/step - loss: 0.0285 - accuracy: 0.9903 - val_loss: 0.3818 - val_accuracy: 0.9340\n",
            "Epoch 65/100\n",
            "60000/60000 [==============================] - 16s 268us/step - loss: 0.0297 - accuracy: 0.9899 - val_loss: 0.3693 - val_accuracy: 0.9350\n",
            "Epoch 66/100\n",
            "60000/60000 [==============================] - 16s 268us/step - loss: 0.0278 - accuracy: 0.9903 - val_loss: 0.2875 - val_accuracy: 0.9314\n",
            "Epoch 67/100\n",
            "60000/60000 [==============================] - 16s 267us/step - loss: 0.0304 - accuracy: 0.9896 - val_loss: 0.4103 - val_accuracy: 0.9355\n",
            "Epoch 68/100\n",
            "60000/60000 [==============================] - 16s 266us/step - loss: 0.0272 - accuracy: 0.9905 - val_loss: 0.3466 - val_accuracy: 0.9345\n",
            "Epoch 69/100\n",
            "60000/60000 [==============================] - 16s 267us/step - loss: 0.0298 - accuracy: 0.9895 - val_loss: 0.3822 - val_accuracy: 0.9338\n",
            "Epoch 70/100\n",
            "60000/60000 [==============================] - 16s 267us/step - loss: 0.0286 - accuracy: 0.9901 - val_loss: 0.3462 - val_accuracy: 0.9340\n",
            "Epoch 71/100\n",
            "60000/60000 [==============================] - 16s 268us/step - loss: 0.0277 - accuracy: 0.9904 - val_loss: 0.2856 - val_accuracy: 0.9273\n",
            "Epoch 72/100\n",
            "60000/60000 [==============================] - 16s 269us/step - loss: 0.0277 - accuracy: 0.9903 - val_loss: 0.2986 - val_accuracy: 0.9307\n",
            "Epoch 73/100\n",
            "60000/60000 [==============================] - 16s 267us/step - loss: 0.0254 - accuracy: 0.9915 - val_loss: 0.4121 - val_accuracy: 0.9317\n",
            "Epoch 74/100\n",
            "60000/60000 [==============================] - 16s 267us/step - loss: 0.0260 - accuracy: 0.9908 - val_loss: 0.4048 - val_accuracy: 0.9354\n",
            "Epoch 75/100\n",
            "60000/60000 [==============================] - 16s 268us/step - loss: 0.0248 - accuracy: 0.9914 - val_loss: 0.4845 - val_accuracy: 0.9311\n",
            "Epoch 76/100\n",
            "60000/60000 [==============================] - 16s 266us/step - loss: 0.0268 - accuracy: 0.9911 - val_loss: 0.2848 - val_accuracy: 0.9299\n",
            "Epoch 77/100\n",
            "60000/60000 [==============================] - 16s 269us/step - loss: 0.0242 - accuracy: 0.9913 - val_loss: 0.4068 - val_accuracy: 0.9308\n",
            "Epoch 78/100\n",
            "60000/60000 [==============================] - 16s 267us/step - loss: 0.0250 - accuracy: 0.9913 - val_loss: 0.4598 - val_accuracy: 0.9309\n",
            "Epoch 79/100\n",
            "60000/60000 [==============================] - 16s 267us/step - loss: 0.0253 - accuracy: 0.9913 - val_loss: 0.4171 - val_accuracy: 0.9348\n",
            "Epoch 80/100\n",
            "60000/60000 [==============================] - 16s 268us/step - loss: 0.0251 - accuracy: 0.9914 - val_loss: 0.3410 - val_accuracy: 0.9308\n",
            "Epoch 81/100\n",
            "60000/60000 [==============================] - 16s 267us/step - loss: 0.0240 - accuracy: 0.9917 - val_loss: 0.3219 - val_accuracy: 0.9295\n",
            "Epoch 82/100\n",
            "60000/60000 [==============================] - 16s 270us/step - loss: 0.0269 - accuracy: 0.9913 - val_loss: 0.3016 - val_accuracy: 0.9270\n",
            "Epoch 83/100\n",
            "60000/60000 [==============================] - 16s 267us/step - loss: 0.0256 - accuracy: 0.9915 - val_loss: 0.3647 - val_accuracy: 0.9346\n",
            "Epoch 84/100\n",
            "60000/60000 [==============================] - 16s 266us/step - loss: 0.0254 - accuracy: 0.9913 - val_loss: 0.2936 - val_accuracy: 0.9295\n",
            "Epoch 85/100\n",
            "60000/60000 [==============================] - 16s 266us/step - loss: 0.0243 - accuracy: 0.9918 - val_loss: 0.2817 - val_accuracy: 0.9280\n",
            "Epoch 86/100\n",
            "60000/60000 [==============================] - 16s 267us/step - loss: 0.0249 - accuracy: 0.9915 - val_loss: 0.4479 - val_accuracy: 0.9337\n",
            "Epoch 87/100\n",
            "60000/60000 [==============================] - 16s 267us/step - loss: 0.0245 - accuracy: 0.9916 - val_loss: 0.4141 - val_accuracy: 0.9313\n",
            "Epoch 88/100\n",
            "60000/60000 [==============================] - 16s 267us/step - loss: 0.0242 - accuracy: 0.9919 - val_loss: 0.2659 - val_accuracy: 0.9260\n",
            "Epoch 89/100\n",
            "60000/60000 [==============================] - 16s 266us/step - loss: 0.0246 - accuracy: 0.9917 - val_loss: 0.4601 - val_accuracy: 0.9332\n",
            "Epoch 90/100\n",
            "60000/60000 [==============================] - 16s 268us/step - loss: 0.0238 - accuracy: 0.9920 - val_loss: 0.2840 - val_accuracy: 0.9279\n",
            "Epoch 91/100\n",
            "60000/60000 [==============================] - 16s 268us/step - loss: 0.0239 - accuracy: 0.9920 - val_loss: 0.4682 - val_accuracy: 0.9321\n",
            "Epoch 92/100\n",
            "60000/60000 [==============================] - 16s 267us/step - loss: 0.0236 - accuracy: 0.9922 - val_loss: 0.5185 - val_accuracy: 0.9319\n",
            "Epoch 93/100\n",
            "60000/60000 [==============================] - 16s 267us/step - loss: 0.0227 - accuracy: 0.9922 - val_loss: 0.4195 - val_accuracy: 0.9328\n",
            "Epoch 94/100\n",
            "60000/60000 [==============================] - 16s 267us/step - loss: 0.0251 - accuracy: 0.9918 - val_loss: 0.4506 - val_accuracy: 0.9316\n",
            "Epoch 95/100\n",
            "60000/60000 [==============================] - 16s 268us/step - loss: 0.0225 - accuracy: 0.9920 - val_loss: 0.5471 - val_accuracy: 0.9338\n",
            "Epoch 96/100\n",
            "60000/60000 [==============================] - 16s 268us/step - loss: 0.0246 - accuracy: 0.9917 - val_loss: 0.3669 - val_accuracy: 0.9322\n",
            "Epoch 97/100\n",
            "60000/60000 [==============================] - 16s 269us/step - loss: 0.0211 - accuracy: 0.9926 - val_loss: 0.4203 - val_accuracy: 0.9332\n",
            "Epoch 98/100\n",
            "60000/60000 [==============================] - 16s 267us/step - loss: 0.0217 - accuracy: 0.9926 - val_loss: 0.6516 - val_accuracy: 0.9336\n",
            "Epoch 99/100\n",
            "60000/60000 [==============================] - 16s 268us/step - loss: 0.0221 - accuracy: 0.9923 - val_loss: 0.4451 - val_accuracy: 0.9353\n",
            "Epoch 100/100\n",
            "60000/60000 [==============================] - 16s 266us/step - loss: 0.0212 - accuracy: 0.9928 - val_loss: 0.4616 - val_accuracy: 0.9326\n"
          ],
          "name": "stdout"
        }
      ]
    },
    {
      "cell_type": "code",
      "metadata": {
        "id": "tCXxKMmjTSZ1",
        "colab_type": "code",
        "outputId": "8f63443d-3d6c-482a-979b-5e96c3f113bc",
        "colab": {
          "base_uri": "https://localhost:8080/",
          "height": 52
        }
      },
      "source": [
        "print('Test loss:', score[0])\n",
        "print('Test Accuracy:', score[1])"
      ],
      "execution_count": 10,
      "outputs": [
        {
          "output_type": "stream",
          "text": [
            "Test loss: 0.46157034028898924\n",
            "Test Accuracy: 0.9326000213623047\n"
          ],
          "name": "stdout"
        }
      ]
    },
    {
      "cell_type": "code",
      "metadata": {
        "id": "BxJvXZEAXE4v",
        "colab_type": "code",
        "colab": {}
      },
      "source": [
        "import os\n",
        "os.chdir('/content/drive/My Drive/Colab Notebooks/image classifier/clothing')"
      ],
      "execution_count": 0,
      "outputs": []
    },
    {
      "cell_type": "code",
      "metadata": {
        "id": "nGl-o_TlbhOD",
        "colab_type": "code",
        "colab": {}
      },
      "source": [
        "#saving the model\n",
        "model.save('clothing_classification_model.h5')"
      ],
      "execution_count": 0,
      "outputs": []
    }
  ]
}